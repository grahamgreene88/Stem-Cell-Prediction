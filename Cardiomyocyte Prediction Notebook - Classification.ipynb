{
 "cells": [
  {
   "cell_type": "markdown",
   "id": "f041286c",
   "metadata": {},
   "source": [
    "# Cardiomyocyte Content Prediction"
   ]
  },
  {
   "cell_type": "code",
   "execution_count": 1,
   "id": "94c94913",
   "metadata": {},
   "outputs": [],
   "source": [
    "import pandas as pd\n",
    "import numpy as np\n",
    "import matplotlib.pyplot as plt\n",
    "import seaborn as sns\n",
    "import sklearn"
   ]
  },
  {
   "cell_type": "markdown",
   "id": "99d90ce8",
   "metadata": {},
   "source": [
    "## Introduction"
   ]
  },
  {
   "cell_type": "markdown",
   "id": "baa29fa2",
   "metadata": {},
   "source": [
    "Stem cell-derived cardyomyocytes (CM) have great potential for ischemic heart disease treatment. For their in-vitro production, hPSC (human pluripotent stem cells) must differentiate into hPSC-CM. \n",
    "\n",
    "*Threshold for classification is CM content >= 90 is sufficient and < 90 is insufficient (add to this later with source from paper)"
   ]
  },
  {
   "cell_type": "markdown",
   "id": "c2bbaa24",
   "metadata": {},
   "source": [
    "### Main questions:\n",
    "#### Can the sufficiency of CM content be accurately predicted?\n",
    "#### Which features are most influential in high CM content?"
   ]
  },
  {
   "cell_type": "code",
   "execution_count": 2,
   "id": "ef70ec77",
   "metadata": {},
   "outputs": [],
   "source": [
    "# Importing data\n",
    "train_df = pd.read_csv('train_data.csv')\n",
    "test_df = pd.read_csv('test_data.csv')\n",
    "# Ensuring both datasets have same number of features\n",
    "assert len(train_df.columns) == len(test_df.columns)\n",
    "# Combining both datasets\n",
    "data = pd.concat([train_df, test_df], ignore_index=True)"
   ]
  },
  {
   "cell_type": "code",
   "execution_count": 3,
   "id": "7369ee75",
   "metadata": {},
   "outputs": [],
   "source": [
    "# Adding sufficiency column to data; CM content >= 90 is sufficinet; < 90 is insufficient\n",
    "data[\"CM Content Sufficiency\"] = 0\n",
    "# 1 is sufficient, 0 is insufficient\n",
    "for i in data.index:\n",
    "    if data.loc[i, \"dd10 CM Content\"] >= 90:\n",
    "        data.loc[i, \"CM Content Sufficiency\"] = 1\n",
    "    else:\n",
    "        data.loc[i, \"CM Content Sufficiency\"] = 0"
   ]
  },
  {
   "cell_type": "code",
   "execution_count": 4,
   "id": "ab6d531c",
   "metadata": {},
   "outputs": [],
   "source": [
    "# The dd10 CM Content column is no longer needed\n",
    "data.drop(\"dd10 CM Content\", axis=1, inplace=True)"
   ]
  },
  {
   "cell_type": "markdown",
   "id": "0d595468",
   "metadata": {},
   "source": [
    "#### New train and test sets will be made later to ensure a random split"
   ]
  },
  {
   "cell_type": "markdown",
   "id": "8c28e2a7",
   "metadata": {},
   "source": [
    "## Data Cleaning"
   ]
  },
  {
   "cell_type": "markdown",
   "id": "e588114e",
   "metadata": {},
   "source": [
    "After visual inspection, the \"DO concentration/cell count dd7\" and \"DO gradient/cell count dd7\" columns in the test file did not have proper references to the cell count cells resulting in #ref errors. This has been fixed in the test excel file and converted back to csv."
   ]
  },
  {
   "cell_type": "code",
   "execution_count": 5,
   "id": "7d998360",
   "metadata": {},
   "outputs": [
    {
     "name": "stdout",
     "output_type": "stream",
     "text": [
      "<class 'pandas.core.frame.DataFrame'>\n",
      "RangeIndex: 60 entries, 0 to 59\n",
      "Columns: 103 entries, dd0 Cell Density to CM Content Sufficiency\n",
      "dtypes: float64(102), int64(1)\n",
      "memory usage: 48.4 KB\n"
     ]
    }
   ],
   "source": [
    "data.info()"
   ]
  },
  {
   "cell_type": "code",
   "execution_count": 6,
   "id": "4c7bb5ee",
   "metadata": {},
   "outputs": [
    {
     "data": {
      "text/plain": [
       "0"
      ]
     },
     "execution_count": 6,
     "metadata": {},
     "output_type": "execute_result"
    }
   ],
   "source": [
    "data.isna().sum().sum()"
   ]
  },
  {
   "cell_type": "markdown",
   "id": "b862eebd",
   "metadata": {},
   "source": [
    "There are now no missing values in the dataset. All data types are numerical (float64 or int64)."
   ]
  },
  {
   "cell_type": "markdown",
   "id": "ad5e333a",
   "metadata": {},
   "source": [
    "## Feature Selection and Cross Validation"
   ]
  },
  {
   "cell_type": "markdown",
   "id": "984764c1",
   "metadata": {},
   "source": [
    "Before feature selection, the data will be split into train and test sets. This is done before feature selection to avoid picking features based on test (unseen) data"
   ]
  },
  {
   "cell_type": "code",
   "execution_count": 7,
   "id": "bba5b357",
   "metadata": {},
   "outputs": [],
   "source": [
    "# Dividing data into X and y sets and splitting into train and test sets\n",
    "from sklearn.model_selection import train_test_split\n",
    "X = data.drop('CM Content Sufficiency', axis=1)\n",
    "y = data['CM Content Sufficiency']\n",
    "# The stratify argument ensures the proportion of each class in the train and test sets is reflective of the\n",
    "# original dataset\n",
    "X_train, X_test, y_train, y_test = train_test_split(X, y, test_size=0.3, stratify=y, random_state=25)"
   ]
  },
  {
   "cell_type": "markdown",
   "id": "c0110c15",
   "metadata": {},
   "source": [
    "We have 102 features and only 60 observations. The number of features needs to be dramatically reduced to avoid\n",
    "overfitting. With a large number of features compared to observations, the model will fit the noise in the training set leading to poor generalization."
   ]
  },
  {
   "cell_type": "markdown",
   "id": "b07885b6",
   "metadata": {},
   "source": [
    "The recursive feature elimination technique will be combined with cross validation using Scikit learn's RFECV. Recursive feature elimination iteratively considers less and less features by fitting the model at each step and discarding the least important ones.\n",
    "\n",
    "In cross-validation (cv), the training set is further split into n subsets. The model is then trained on a fraction of each subset and evaluated on the remaining fraction. This is done n times for each subset. The cv performance is the average evaluated performance across each of the subsets.\n",
    "\n",
    "Combining rfe and cv allows reducing the risk of overfitting (thanks to cv) while reliably identifying the important features. Cv helps make the feature selection task more robust, as the selected features have proven to be important across different subsets of the data."
   ]
  },
  {
   "cell_type": "code",
   "execution_count": 11,
   "id": "7eb27380",
   "metadata": {},
   "outputs": [
    {
     "name": "stdout",
     "output_type": "stream",
     "text": [
      "Optimal number of features: 5\n"
     ]
    }
   ],
   "source": [
    "from sklearn.feature_selection import RFECV\n",
    "from sklearn.model_selection import StratifiedKFold\n",
    "from sklearn.linear_model import LogisticRegression\n",
    "from sklearn.metrics import recall_score\n",
    "lg = LogisticRegression(solver='liblinear')\n",
    "kf = StratifiedKFold(n_splits=3, shuffle=True, random_state=25)\n",
    "rfecv = RFECV(lg, cv=kf, scoring='recall')\n",
    "rfecv.fit(X_train, y_train)\n",
    "rfecv.n_features_\n",
    "print(f\"Optimal number of features: {rfecv.n_features_}\")"
   ]
  },
  {
   "cell_type": "code",
   "execution_count": 12,
   "id": "f0b53046",
   "metadata": {},
   "outputs": [
    {
     "data": {
      "image/png": "[encoded data removed]",
      "text/plain": [
       "<Figure size 640x480 with 1 Axes>"
      ]
     },
     "metadata": {},
     "output_type": "display_data"
    }
   ],
   "source": [
    "# Visualizing model performance as number of features changes\n",
    "n_scores = len(rfecv.cv_results_[\"mean_test_score\"])\n",
    "plt.figure()\n",
    "plt.xlabel(\"Number of features selected\")\n",
    "plt.ylabel(\"Mean test score\")\n",
    "plt.errorbar(\n",
    "    range(1, n_scores + 1),\n",
    "    rfecv.cv_results_[\"mean_test_score\"],\n",
    "    yerr=rfecv.cv_results_[\"std_test_score\"],\n",
    ")\n",
    "plt.title(\"Recursive Feature Elimination \\nwith correlated features\")\n",
    "plt.show()"
   ]
  },
  {
   "cell_type": "markdown",
   "id": "c4440bd8",
   "metadata": {},
   "source": [
    "## Using their train and test sets"
   ]
  },
  {
   "cell_type": "code",
   "execution_count": 16,
   "id": "52fc3f78",
   "metadata": {},
   "outputs": [],
   "source": [
    "# Adding sufficiency column to data; CM content >= 90 is sufficinet; < 90 is insufficient\n",
    "train_df[\"CM Content Sufficiency\"] = 0\n",
    "test_df[\"CM Content Sufficiency\"] = 0\n",
    "dfs = [train_df, test_df]\n",
    "# 1 is sufficient, 0 is insufficient\n",
    "for df in dfs:\n",
    "    for i in df.index:\n",
    "        if df.loc[i, \"dd10 CM Content\"] >= 90:\n",
    "            df.loc[i, \"CM Content Sufficiency\"] = 1\n",
    "        else:\n",
    "            df.loc[i, \"CM Content Sufficiency\"] = 0\n",
    "    # dd10 CM Content column is no longer needed\n",
    "    df.drop(\"dd10 CM Content\", axis=1, inplace=True)"
   ]
  },
  {
   "cell_type": "code",
   "execution_count": 21,
   "id": "cfa3703a",
   "metadata": {},
   "outputs": [
    {
     "data": {
      "text/plain": [
       "0.2777777777777778"
      ]
     },
     "execution_count": 21,
     "metadata": {},
     "output_type": "execute_result"
    }
   ],
   "source": [
    "prop = len(test_df[test_df[\"CM Content Sufficiency\"] == 1]) / len(test_df)\n",
    "prop"
   ]
  },
  {
   "cell_type": "code",
   "execution_count": 22,
   "id": "95f0266a",
   "metadata": {},
   "outputs": [
    {
     "data": {
      "text/plain": [
       "0.3333333333333333"
      ]
     },
     "execution_count": 22,
     "metadata": {},
     "output_type": "execute_result"
    }
   ],
   "source": [
    "prop_tr = len(train_df[train_df[\"CM Content Sufficiency\"] == 1]) / len(train_df)\n",
    "prop_tr"
   ]
  }
 ],
 "metadata": {
  "kernelspec": {
   "display_name": "Python 3 (ipykernel)",
   "language": "python",
   "name": "python3"
  },
  "language_info": {
   "codemirror_mode": {
    "name": "ipython",
    "version": 3
   },
   "file_extension": ".py",
   "mimetype": "text/x-python",
   "name": "python",
   "nbconvert_exporter": "python",
   "pygments_lexer": "ipython3",
   "version": "3.11.5"
  }
 },
 "nbformat": 4,
 "nbformat_minor": 5
}
